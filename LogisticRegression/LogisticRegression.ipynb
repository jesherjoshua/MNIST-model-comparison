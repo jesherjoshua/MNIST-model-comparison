{
 "cells": [
  {
   "cell_type": "markdown",
   "metadata": {},
   "source": [
    "# Imports"
   ]
  },
  {
   "cell_type": "code",
   "execution_count": 2,
   "metadata": {},
   "outputs": [
    {
     "name": "stdout",
     "output_type": "stream",
     "text": [
      "Pytorch Version: 1.12.0\n",
      " torchvision Version: 0.13.0\n"
     ]
    }
   ],
   "source": [
    "import torch\n",
    "import numpy as np\n",
    "import pandas as pd\n",
    "import sklearn as skl\n",
    "import torchmetrics\n",
    "import torchvision\n",
    "from torchvision import datasets\n",
    "from torchvision import transforms\n",
    "from torch.utils.data import DataLoader\n",
    "from torch import nn\n",
    "import matplotlib.pyplot as plt\n",
    "import seaborn as sns \n",
    "print(f'Pytorch Version: {torch.__version__}\\n torchvision Version: {torchvision.__version__}')"
   ]
  },
  {
   "cell_type": "code",
   "execution_count": 3,
   "metadata": {},
   "outputs": [],
   "source": [
    "device='cuda'if torch.cuda.is_available() else 'cpu'"
   ]
  },
  {
   "cell_type": "code",
   "execution_count": 4,
   "metadata": {},
   "outputs": [
    {
     "data": {
      "text/plain": [
       "'cpu'"
      ]
     },
     "execution_count": 4,
     "metadata": {},
     "output_type": "execute_result"
    }
   ],
   "source": [
    "device"
   ]
  },
  {
   "cell_type": "code",
   "execution_count": null,
   "metadata": {},
   "outputs": [],
   "source": [
    "train_data=datasets.MNIST(root='../data',\n",
    "train=True,\n",
    "download=True,\n",
    "transform=torchvision.transforms.ToTensor())"
   ]
  },
  {
   "cell_type": "code",
   "execution_count": 6,
   "metadata": {},
   "outputs": [],
   "source": [
    "test_data=datasets.MNIST(root=\"../data\",\n",
    "train=False,\n",
    "download=True,\n",
    "transform=torchvision.transforms.ToTensor(),)"
   ]
  },
  {
   "cell_type": "code",
   "execution_count": 7,
   "metadata": {},
   "outputs": [
    {
     "name": "stdout",
     "output_type": "stream",
     "text": [
      "Training samples: 60000\n",
      "Testing Samples: 10000\n"
     ]
    }
   ],
   "source": [
    "print(f'Training samples: {len(train_data)}\\nTesting Samples: {len(test_data)}')"
   ]
  },
  {
   "cell_type": "code",
   "execution_count": 8,
   "metadata": {},
   "outputs": [
    {
     "data": {
      "text/plain": [
       "(torch.Size([1, 28, 28]), 5)"
      ]
     },
     "execution_count": 8,
     "metadata": {},
     "output_type": "execute_result"
    }
   ],
   "source": [
    "image,label=train_data[0]\n",
    "image.shape,label"
   ]
  },
  {
   "cell_type": "code",
   "execution_count": 9,
   "metadata": {},
   "outputs": [
    {
     "data": {
      "text/plain": [
       "['0 - zero',\n",
       " '1 - one',\n",
       " '2 - two',\n",
       " '3 - three',\n",
       " '4 - four',\n",
       " '5 - five',\n",
       " '6 - six',\n",
       " '7 - seven',\n",
       " '8 - eight',\n",
       " '9 - nine']"
      ]
     },
     "execution_count": 9,
     "metadata": {},
     "output_type": "execute_result"
    }
   ],
   "source": [
    "train_data.classes"
   ]
  },
  {
   "cell_type": "code",
   "execution_count": 10,
   "metadata": {},
   "outputs": [
    {
     "data": {
      "text/plain": [
       "35226"
      ]
     },
     "execution_count": 10,
     "metadata": {},
     "output_type": "execute_result"
    }
   ],
   "source": [
    "torch.randint(0,len(train_data),size=[1]).item()"
   ]
  },
  {
   "cell_type": "code",
   "execution_count": 11,
   "metadata": {},
   "outputs": [
    {
     "data": {
      "image/png": "[encoded data removed]",
      "text/plain": [
       "<Figure size 648x648 with 9 Axes>"
      ]
     },
     "metadata": {
      "needs_background": "light"
     },
     "output_type": "display_data"
    }
   ],
   "source": [
    "fig=plt.figure(figsize=(9,9))\n",
    "for i in range(1,10):\n",
    "    idx=torch.randint(0,len(train_data),size=[1]).item()\n",
    "    image,label=train_data[idx]\n",
    "    fig.add_subplot(3,3,i)\n",
    "    plt.imshow(image.squeeze())\n",
    "    plt.title(label=label)"
   ]
  },
  {
   "cell_type": "markdown",
   "metadata": {},
   "source": [
    "# Hyper-parameters"
   ]
  },
  {
   "cell_type": "code",
   "execution_count": 12,
   "metadata": {},
   "outputs": [],
   "source": [
    "BATCH_SIZE=32\n",
    "EPOCHS=100\n",
    "LEARNING_RATE=0.001"
   ]
  },
  {
   "cell_type": "code",
   "execution_count": 13,
   "metadata": {},
   "outputs": [],
   "source": [
    "train_dl=DataLoader(\n",
    "    train_data,\n",
    "    batch_size=BATCH_SIZE,\n",
    "    shuffle=True\n",
    ")"
   ]
  },
  {
   "cell_type": "code",
   "execution_count": 14,
   "metadata": {},
   "outputs": [
    {
     "name": "stdout",
     "output_type": "stream",
     "text": [
      "No. of train batches: 1875\n",
      "No.of test batches: 313\n"
     ]
    }
   ],
   "source": [
    "test_dl=DataLoader(\n",
    "    test_data,\n",
    "    batch_size=BATCH_SIZE,\n",
    "    shuffle=True\n",
    ")\n",
    "print(f'No. of train batches: {len(train_dl)}\\nNo.of test batches: {len(test_dl)}')"
   ]
  },
  {
   "cell_type": "code",
   "execution_count": 15,
   "metadata": {},
   "outputs": [],
   "source": [
    "\n",
    "class LogisticRegression(nn.Module):\n",
    "    def __init__(self):\n",
    "        super().__init__()\n",
    "        self.lgr=nn.Sequential(\n",
    "            nn.Flatten(),\n",
    "            nn.Linear(28*28,10)\n",
    "        )\n",
    "    def forward(self,x):\n",
    "        return self.lgr(x)\n"
   ]
  },
  {
   "cell_type": "code",
   "execution_count": 16,
   "metadata": {},
   "outputs": [
    {
     "name": "stdout",
     "output_type": "stream",
     "text": [
      "LogisticRegression(\n",
      "  (lgr): Sequential(\n",
      "    (0): Flatten(start_dim=1, end_dim=-1)\n",
      "    (1): Linear(in_features=784, out_features=10, bias=True)\n",
      "  )\n",
      ")\n"
     ]
    }
   ],
   "source": [
    "lgr=LogisticRegression()\n",
    "loss_fn=nn.CrossEntropyLoss()\n",
    "accuracy=torchmetrics.Accuracy()\n",
    "optimizer=torch.optim.SGD(lgr.parameters(),lr=LEARNING_RATE)\n",
    "print(lgr)"
   ]
  },
  {
   "cell_type": "code",
   "execution_count": 17,
   "metadata": {},
   "outputs": [],
   "source": [
    "def train_loop(\n",
    "    model:torch.nn.Module,\n",
    "    data_loader:torch.utils.data.DataLoader,\n",
    "    loss_fn: torch.nn.Module,\n",
    "    optimizer: torch.optim.Optimizer,\n",
    "    device: torch.device=device):\n",
    "    \n",
    "    for epoch in range(EPOCHS):\n",
    "\n",
    "        train_loss=0\n",
    "        train_acc=0\n",
    "        for x,y in data_loader:\n",
    "            lgr.train()\n",
    "            y_pred=model(x)\n",
    "            loss=loss_fn(y_pred,y)\n",
    "            train_loss+=loss\n",
    "            train_acc+=accuracy(y_pred,y)\n",
    "            optimizer.zero_grad()\n",
    "            loss.backward()\n",
    "            optimizer.step()\n",
    "        print(f'Epoch: {epoch+1}| Train Loss: {train_loss/len(train_dl)}| Train acc: {train_acc/len(train_dl)}')\n",
    "            \n",
    "\n",
    "    \n"
   ]
  },
  {
   "cell_type": "code",
   "execution_count": 18,
   "metadata": {},
   "outputs": [
    {
     "name": "stdout",
     "output_type": "stream",
     "text": [
      "Epoch: 1| Train Loss: 1.6643491983413696| Train acc: 0.6665499806404114\n",
      "Epoch: 2| Train Loss: 1.0478843450546265| Train acc: 0.8134666681289673\n",
      "Epoch: 3| Train Loss: 0.8295053243637085| Train acc: 0.8360000252723694\n",
      "Epoch: 4| Train Loss: 0.7193810343742371| Train acc: 0.8476666808128357\n",
      "Epoch: 5| Train Loss: 0.6519660353660583| Train acc: 0.8558833599090576\n",
      "Epoch: 6| Train Loss: 0.6058158278465271| Train acc: 0.8611999750137329\n",
      "Epoch: 7| Train Loss: 0.5719086527824402| Train acc: 0.8654333353042603\n",
      "Epoch: 8| Train Loss: 0.5457786917686462| Train acc: 0.8685500025749207\n",
      "Epoch: 9| Train Loss: 0.5248492956161499| Train acc: 0.8717166781425476\n",
      "Epoch: 10| Train Loss: 0.5076435804367065| Train acc: 0.8741666674613953\n",
      "Epoch: 11| Train Loss: 0.4932129979133606| Train acc: 0.876800000667572\n",
      "Epoch: 12| Train Loss: 0.4808676838874817| Train acc: 0.8787166476249695\n",
      "Epoch: 13| Train Loss: 0.4701727628707886| Train acc: 0.8801000118255615\n",
      "Epoch: 14| Train Loss: 0.4607442617416382| Train acc: 0.8817166686058044\n",
      "Epoch: 15| Train Loss: 0.45242223143577576| Train acc: 0.8828333616256714\n",
      "Epoch: 16| Train Loss: 0.4449537396430969| Train acc: 0.8843500018119812\n",
      "Epoch: 17| Train Loss: 0.4382326602935791| Train acc: 0.8856499791145325\n",
      "Epoch: 18| Train Loss: 0.4321350157260895| Train acc: 0.8866166472434998\n",
      "Epoch: 19| Train Loss: 0.42656758427619934| Train acc: 0.8878999948501587\n",
      "Epoch: 20| Train Loss: 0.42143765091896057| Train acc: 0.8887333273887634\n",
      "Epoch: 21| Train Loss: 0.4167398512363434| Train acc: 0.8898166418075562\n",
      "Epoch: 22| Train Loss: 0.41236361861228943| Train acc: 0.8906333446502686\n",
      "Epoch: 23| Train Loss: 0.4083159267902374| Train acc: 0.8913999795913696\n",
      "Epoch: 24| Train Loss: 0.4045218825340271| Train acc: 0.8920833468437195\n",
      "Epoch: 25| Train Loss: 0.4009847342967987| Train acc: 0.8929833173751831\n",
      "Epoch: 26| Train Loss: 0.3976565897464752| Train acc: 0.8934500217437744\n",
      "Epoch: 27| Train Loss: 0.3945467174053192| Train acc: 0.894349992275238\n",
      "Epoch: 28| Train Loss: 0.39159566164016724| Train acc: 0.8945833444595337\n",
      "Epoch: 29| Train Loss: 0.38881340622901917| Train acc: 0.8950833082199097\n",
      "Epoch: 30| Train Loss: 0.38616278767585754| Train acc: 0.8958333134651184\n",
      "Epoch: 31| Train Loss: 0.38366663455963135| Train acc: 0.8963500261306763\n",
      "Epoch: 32| Train Loss: 0.38130345940589905| Train acc: 0.8966500163078308\n",
      "Epoch: 33| Train Loss: 0.3790165185928345| Train acc: 0.8971999883651733\n",
      "Epoch: 34| Train Loss: 0.37686148285865784| Train acc: 0.8976333141326904\n",
      "Epoch: 35| Train Loss: 0.3747797906398773| Train acc: 0.8981333374977112\n",
      "Epoch: 36| Train Loss: 0.3728124797344208| Train acc: 0.8986166715621948\n",
      "Epoch: 37| Train Loss: 0.37091901898384094| Train acc: 0.8988166451454163\n",
      "Epoch: 38| Train Loss: 0.36909472942352295| Train acc: 0.8991833329200745\n",
      "Epoch: 39| Train Loss: 0.367354154586792| Train acc: 0.8999333381652832\n",
      "Epoch: 40| Train Loss: 0.36567896604537964| Train acc: 0.8999333381652832\n",
      "Epoch: 41| Train Loss: 0.36406150460243225| Train acc: 0.9004499912261963\n",
      "Epoch: 42| Train Loss: 0.36249178647994995| Train acc: 0.9009000062942505\n",
      "Epoch: 43| Train Loss: 0.36102694272994995| Train acc: 0.9011499881744385\n",
      "Epoch: 44| Train Loss: 0.35956448316574097| Train acc: 0.9017166495323181\n",
      "Epoch: 45| Train Loss: 0.3581528961658478| Train acc: 0.9021499752998352\n",
      "Epoch: 46| Train Loss: 0.356806218624115| Train acc: 0.9021999835968018\n",
      "Epoch: 47| Train Loss: 0.35550662875175476| Train acc: 0.9024166464805603\n",
      "Epoch: 48| Train Loss: 0.35424983501434326| Train acc: 0.902733325958252\n",
      "Epoch: 49| Train Loss: 0.3530220687389374| Train acc: 0.9031333327293396\n",
      "Epoch: 50| Train Loss: 0.3518257141113281| Train acc: 0.9032333493232727\n",
      "Epoch: 51| Train Loss: 0.35066911578178406| Train acc: 0.9034833312034607\n",
      "Epoch: 52| Train Loss: 0.349543958902359| Train acc: 0.9037333130836487\n",
      "Epoch: 53| Train Loss: 0.3484700322151184| Train acc: 0.9039999842643738\n",
      "Epoch: 54| Train Loss: 0.34741634130477905| Train acc: 0.9041833281517029\n",
      "Epoch: 55| Train Loss: 0.3463868796825409| Train acc: 0.9041666388511658\n",
      "Epoch: 56| Train Loss: 0.3453800678253174| Train acc: 0.9045666456222534\n",
      "Epoch: 57| Train Loss: 0.3444092571735382| Train acc: 0.9049666523933411\n",
      "Epoch: 58| Train Loss: 0.34345942735671997| Train acc: 0.9050499796867371\n",
      "Epoch: 59| Train Loss: 0.34252485632896423| Train acc: 0.9052333235740662\n",
      "Epoch: 60| Train Loss: 0.3416447043418884| Train acc: 0.9054666757583618\n",
      "Epoch: 61| Train Loss: 0.3407413363456726| Train acc: 0.9058333039283752\n",
      "Epoch: 62| Train Loss: 0.33989784121513367| Train acc: 0.906083345413208\n",
      "Epoch: 63| Train Loss: 0.33906254172325134| Train acc: 0.9061999917030334\n",
      "Epoch: 64| Train Loss: 0.3382478654384613| Train acc: 0.9063833355903625\n",
      "Epoch: 65| Train Loss: 0.3374451696872711| Train acc: 0.9063833355903625\n",
      "Epoch: 66| Train Loss: 0.3366694748401642| Train acc: 0.9066333174705505\n",
      "Epoch: 67| Train Loss: 0.3359045684337616| Train acc: 0.9066166877746582\n",
      "Epoch: 68| Train Loss: 0.33515211939811707| Train acc: 0.9069666862487793\n",
      "Epoch: 69| Train Loss: 0.33442774415016174| Train acc: 0.9070000052452087\n",
      "Epoch: 70| Train Loss: 0.3337097465991974| Train acc: 0.9073333144187927\n",
      "Epoch: 71| Train Loss: 0.33301427960395813| Train acc: 0.9075499773025513\n",
      "Epoch: 72| Train Loss: 0.33232805132865906| Train acc: 0.9076333045959473\n",
      "Epoch: 73| Train Loss: 0.3316570818424225| Train acc: 0.9080333113670349\n",
      "Epoch: 74| Train Loss: 0.3309979736804962| Train acc: 0.907966673374176\n",
      "Epoch: 75| Train Loss: 0.33034780621528625| Train acc: 0.9084500074386597\n",
      "Epoch: 76| Train Loss: 0.32971110939979553| Train acc: 0.9086833596229553\n",
      "Epoch: 77| Train Loss: 0.3290996849536896| Train acc: 0.9087333083152771\n",
      "Epoch: 78| Train Loss: 0.3284914493560791| Train acc: 0.9089833498001099\n",
      "Epoch: 79| Train Loss: 0.32790061831474304| Train acc: 0.9089833498001099\n",
      "Epoch: 80| Train Loss: 0.32729485630989075| Train acc: 0.9090166687965393\n",
      "Epoch: 81| Train Loss: 0.3267359435558319| Train acc: 0.9090999960899353\n",
      "Epoch: 82| Train Loss: 0.3261774480342865| Train acc: 0.909416675567627\n",
      "Epoch: 83| Train Loss: 0.32562074065208435| Train acc: 0.9096333384513855\n",
      "Epoch: 84| Train Loss: 0.32507288455963135| Train acc: 0.909600019454956\n",
      "Epoch: 85| Train Loss: 0.32453593611717224| Train acc: 0.9098333120346069\n",
      "Epoch: 86| Train Loss: 0.3240153193473816| Train acc: 0.9099666476249695\n",
      "Epoch: 87| Train Loss: 0.32349106669425964| Train acc: 0.9101333618164062\n",
      "Epoch: 88| Train Loss: 0.32299330830574036| Train acc: 0.9100833535194397\n",
      "Epoch: 89| Train Loss: 0.3224886357784271| Train acc: 0.910266637802124\n",
      "Epoch: 90| Train Loss: 0.3219989240169525| Train acc: 0.9106166958808899\n",
      "Epoch: 91| Train Loss: 0.3215225636959076| Train acc: 0.9107666611671448\n",
      "Epoch: 92| Train Loss: 0.32104405760765076| Train acc: 0.9107166528701782\n",
      "Epoch: 93| Train Loss: 0.3205767571926117| Train acc: 0.9107333421707153\n",
      "Epoch: 94| Train Loss: 0.3201166093349457| Train acc: 0.911050021648407\n",
      "Epoch: 95| Train Loss: 0.3196595311164856| Train acc: 0.9110833406448364\n",
      "Epoch: 96| Train Loss: 0.31922078132629395| Train acc: 0.9112499952316284\n",
      "Epoch: 97| Train Loss: 0.31877580285072327| Train acc: 0.9114333391189575\n",
      "Epoch: 98| Train Loss: 0.3183450698852539| Train acc: 0.911466658115387\n",
      "Epoch: 99| Train Loss: 0.31790676712989807| Train acc: 0.9114000201225281\n",
      "Epoch: 100| Train Loss: 0.31747978925704956| Train acc: 0.9116166830062866\n"
     ]
    }
   ],
   "source": [
    "train_loop(lgr,train_dl,loss_fn,optimizer)"
   ]
  },
  {
   "cell_type": "code",
   "execution_count": 19,
   "metadata": {},
   "outputs": [],
   "source": [
    "def evaluate(\n",
    "    model: torch.nn.Module,\n",
    "    DataLoader:torch.utils.data.DataLoader,\n",
    "    loss_fn:torch.nn.Module,\n",
    "    device:torch.device=device\n",
    "):\n",
    "    model.eval()\n",
    "    with torch.inference_mode():\n",
    "        test_acc=test_loss=0\n",
    "        for x,y in DataLoader:\n",
    "            y_pred=model(x)\n",
    "            loss=loss_fn(y_pred,y)\n",
    "            test_loss+=loss\n",
    "            acc=accuracy(y_pred,y)\n",
    "            test_acc+=acc\n",
    "        test_loss/=len(DataLoader)\n",
    "        test_acc/=len(DataLoader)\n",
    "        print(f'Test Loss: {test_loss} | Test Acc: {test_acc}')"
   ]
  },
  {
   "cell_type": "code",
   "execution_count": 20,
   "metadata": {},
   "outputs": [
    {
     "name": "stdout",
     "output_type": "stream",
     "text": [
      "Test Loss: 0.30529940128326416 | Test Acc: 0.9166333675384521\n"
     ]
    }
   ],
   "source": [
    "evaluate(lgr,test_dl,loss_fn)"
   ]
  },
  {
   "cell_type": "code",
   "execution_count": 21,
   "metadata": {},
   "outputs": [],
   "source": [
    "torch.save(lgr,'logistic_regression.pt')"
   ]
  },
  {
   "cell_type": "code",
   "execution_count": null,
   "metadata": {},
   "outputs": [],
   "source": []
  }
 ],
 "metadata": {
  "kernelspec": {
   "display_name": "Python 3.8.9 64-bit",
   "language": "python",
   "name": "python3"
  },
  "language_info": {
   "codemirror_mode": {
    "name": "ipython",
    "version": 3
   },
   "file_extension": ".py",
   "mimetype": "text/x-python",
   "name": "python",
   "nbconvert_exporter": "python",
   "pygments_lexer": "ipython3",
   "version": "3.8.9"
  },
  "orig_nbformat": 4,
  "vscode": {
   "interpreter": {
    "hash": "31f2aee4e71d21fbe5cf8b01ff0e069b9275f58929596ceb00d14d90e3e16cd6"
   }
  }
 },
 "nbformat": 4,
 "nbformat_minor": 2
}
